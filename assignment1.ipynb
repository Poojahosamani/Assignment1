{
 "cells": [
  {
   "cell_type": "code",
   "execution_count": 8,
   "id": "377c590d",
   "metadata": {},
   "outputs": [
    {
     "name": "stdout",
     "output_type": "stream",
     "text": [
      "('apple', 'banana', 'cherry')\n",
      "(1, 5, 7, 9, 3)\n",
      "(True, False, False)\n",
      "apple\n",
      "5\n",
      "False\n"
     ]
    }
   ],
   "source": [
    "#Create a tuple with 3 lists, one string , one integer get the values of second list third value\n",
    "\n",
    "tuple1 = (\"apple\", \"banana\", \"cherry\")\n",
    "tuple2 = (1, 5, 7, 9, 3)\n",
    "tuple3 = (True, False, False)\n",
    "\n",
    "print(tuple1)\n",
    "print(tuple2)\n",
    "print(tuple3)\n",
    "print(tuple1[0])\n",
    "print(tuple2[1])\n",
    "print(tuple3[2])"
   ]
  },
  {
   "cell_type": "code",
   "execution_count": 13,
   "id": "5e913faf",
   "metadata": {},
   "outputs": [
    {
     "name": "stdout",
     "output_type": "stream",
     "text": [
      "{'Emp1': 'Manager', 'Emp2': 'Prema', 'Emp3': 'Nisha', 'Emp4': 'Priya', 'Emp5': 'Shivani'}\n",
      "Nisha\n"
     ]
    }
   ],
   "source": [
    "#Create a dictionary with EmpNo as key and EmpName as value with 5 key pair values and check if empNo 3 then print manager and nested if check empname = \"yy'' then print Manager else emp name\n",
    "\n",
    "empdict = {\n",
    "    \"Emp1\": \"Manager\",\n",
    "    \"Emp2\": \"Prema\",\n",
    "    \"Emp3\": \"Nisha\",\n",
    "    \"Emp4\": \"Priya\",\n",
    "    \"Emp5\": \"Shivani\"\n",
    "}\n",
    "print(empdict)\n",
    "print(empdict[\"Emp3\"])\n",
    "\n",
    "\n"
   ]
  },
  {
   "cell_type": "code",
   "execution_count": 1,
   "id": "4add02d4",
   "metadata": {},
   "outputs": [
    {
     "name": "stdout",
     "output_type": "stream",
     "text": [
      " N\n",
      " NE\n",
      " NET\n",
      " NETZ\n",
      " NETZW\n",
      " NETZWE\n",
      " NETZWER\n",
      " NETZWERK\n"
     ]
    }
   ],
   "source": [
    "#Print Pattern to display letter of the word using while loop\n",
    "index = 0\n",
    "a = 'NETZWERK'\n",
    "aa = ' ' \n",
    "while index < len(a):\n",
    "    aa = aa + a[index]\n",
    "    print(aa)\n",
    "    index = index + 1\n"
   ]
  },
  {
   "cell_type": "code",
   "execution_count": 4,
   "id": "0f9c5c8b",
   "metadata": {},
   "outputs": [
    {
     "name": "stdout",
     "output_type": "stream",
     "text": [
      " K\n",
      " KR\n",
      " KRE\n",
      " KREW\n",
      " KREWZ\n",
      " KREWZT\n",
      " KREWZTE\n",
      " KREWZTEN\n"
     ]
    },
    {
     "ename": "IndexError",
     "evalue": "string index out of range",
     "output_type": "error",
     "traceback": [
      "\u001b[1;31m---------------------------------------------------------------------------\u001b[0m",
      "\u001b[1;31mIndexError\u001b[0m                                Traceback (most recent call last)",
      "\u001b[1;32m~\\AppData\\Local\\Temp/ipykernel_9140/2457666033.py\u001b[0m in \u001b[0;36m<module>\u001b[1;34m\u001b[0m\n\u001b[0;32m      5\u001b[0m \u001b[0maa\u001b[0m \u001b[1;33m=\u001b[0m \u001b[1;34m' '\u001b[0m\u001b[1;33m\u001b[0m\u001b[1;33m\u001b[0m\u001b[0m\n\u001b[0;32m      6\u001b[0m \u001b[1;32mwhile\u001b[0m \u001b[0mindex\u001b[0m \u001b[1;33m<\u001b[0m \u001b[0mlen\u001b[0m\u001b[1;33m(\u001b[0m\u001b[0ma\u001b[0m\u001b[1;33m)\u001b[0m\u001b[1;33m:\u001b[0m\u001b[1;33m\u001b[0m\u001b[1;33m\u001b[0m\u001b[0m\n\u001b[1;32m----> 7\u001b[1;33m     \u001b[0maa\u001b[0m \u001b[1;33m=\u001b[0m \u001b[0maa\u001b[0m \u001b[1;33m+\u001b[0m \u001b[0ma\u001b[0m\u001b[1;33m[\u001b[0m\u001b[0mindex\u001b[0m\u001b[1;33m]\u001b[0m\u001b[1;33m\u001b[0m\u001b[1;33m\u001b[0m\u001b[0m\n\u001b[0m\u001b[0;32m      8\u001b[0m     \u001b[0mprint\u001b[0m\u001b[1;33m(\u001b[0m\u001b[0maa\u001b[0m\u001b[1;33m)\u001b[0m\u001b[1;33m\u001b[0m\u001b[1;33m\u001b[0m\u001b[0m\n\u001b[0;32m      9\u001b[0m     \u001b[0mindex\u001b[0m \u001b[1;33m=\u001b[0m \u001b[0mindex\u001b[0m \u001b[1;33m-\u001b[0m \u001b[1;36m1\u001b[0m\u001b[1;33m\u001b[0m\u001b[1;33m\u001b[0m\u001b[0m\n",
      "\u001b[1;31mIndexError\u001b[0m: string index out of range"
     ]
    }
   ],
   "source": [
    "#Print pyramid of REVEESE NETZWERK using while loop\n",
    "\n",
    "index = -1\n",
    "a = 'NETZWERK'\n",
    "aa = ' ' \n",
    "while index < len(a):\n",
    "    aa = aa + a[index]\n",
    "    print(aa)\n",
    "    index = index - 1\n"
   ]
  },
  {
   "cell_type": "code",
   "execution_count": 6,
   "id": "104779cf",
   "metadata": {},
   "outputs": [
    {
     "name": "stdout",
     "output_type": "stream",
     "text": [
      "Enter the number:5\n",
      "        1 \n",
      "       1 1 \n",
      "      1 1 1 \n",
      "     1 1 1 1 \n",
      "    1 1 1 1 1 \n",
      "   1 1 1 1 1 1 \n",
      "    1 1 1 1 1 \n",
      "     1 1 1 1 \n",
      "      1 1 1 \n",
      "       1 1 \n",
      "        1 \n"
     ]
    }
   ],
   "source": [
    "#pyramid program using for loop (diamond shape)\n",
    "\n",
    "\n",
    "n = int(input('Enter the number:'))\n",
    "k = 2 * n - 2\n",
    "for i in range(0, n):\n",
    "    for j in range(0, k):\n",
    "        print(end= ' ')\n",
    "    k = k - 1\n",
    "    for j in range(0, i + 1):\n",
    "        print('1 ', end= '') # No space \n",
    "    print('') # No space\n",
    "    \n",
    "k = n - 2\n",
    "for i in range(n, -1, -1):\n",
    "    for j in range(k, 0, -1):\n",
    "        print(end= ' ')\n",
    "    k = k + 1\n",
    "    for j in range(0, i + 1):\n",
    "        print('1 ', end= '') # No space\n",
    "    print('') # No space"
   ]
  },
  {
   "cell_type": "code",
   "execution_count": 11,
   "id": "24e2e5ba",
   "metadata": {},
   "outputs": [
    {
     "name": "stdout",
     "output_type": "stream",
     "text": [
      "The count is: 0\n",
      "The count is: 1\n",
      "The count is: 2\n",
      "The count is: 3\n",
      "The count is: 4\n",
      "The count is: 5\n",
      "The count is: 6\n",
      "The count is: 7\n",
      "The count is: 8\n",
      "Good bye!\n"
     ]
    }
   ],
   "source": [
    "#shorthand while counter increase\n",
    "\n",
    "count = 0\n",
    "while (count < 9):\n",
    "  print('The count is:', count)\n",
    "  count += 1\n",
    "print(\"Good bye!\")\n"
   ]
  },
  {
   "cell_type": "code",
   "execution_count": 3,
   "id": "9a697b22",
   "metadata": {},
   "outputs": [
    {
     "name": "stdout",
     "output_type": "stream",
     "text": [
      "Name: Simon\n",
      "Age: 19\n",
      "Address: Bangalore, Karnataka, India\n",
      "Hobbies: Playing games\n"
     ]
    }
   ],
   "source": [
    "##Create a module with address and hobbies for student and print address and hobbies for the student from the main execution \n",
    "\n",
    "def std_details():\n",
    "    name, age = \"Simon\", 19\n",
    "    address = \"Bangalore, Karnataka, India\"\n",
    "    hobbies = \"Playing games\"\n",
    "    print(\"Name: {}\\nAge: {}\\nAddress: {}\\nHobbies: {}\".format(name, age, address,hobbies))\n",
    "std_details()\n"
   ]
  },
  {
   "cell_type": "code",
   "execution_count": 19,
   "id": "7594e7e0",
   "metadata": {},
   "outputs": [
    {
     "name": "stdout",
     "output_type": "stream",
     "text": [
      "The youngest child is Linus\n"
     ]
    }
   ],
   "source": [
    "#Create a function with multiple keyword args and print them\n",
    "\n",
    "def my_function(child3, child2, child1):\n",
    "  print(\"The youngest child is \" + child3)\n",
    "\n",
    "my_function(child1 = \"pooja\", child2 = \"john\", child3 = \"Linus\")\n"
   ]
  },
  {
   "cell_type": "code",
   "execution_count": 20,
   "id": "abc56771",
   "metadata": {},
   "outputs": [
    {
     "name": "stdout",
     "output_type": "stream",
     "text": [
      "His last name is fsnes\n"
     ]
    }
   ],
   "source": [
    "def my_function(**kid):\n",
    "  print(\"His last name is \" + kid[\"lname\"])\n",
    "\n",
    "my_function(fname = \"john\", lname = \"fsnes\")\n"
   ]
  },
  {
   "cell_type": "code",
   "execution_count": 21,
   "id": "22c11761",
   "metadata": {},
   "outputs": [
    {
     "name": "stdout",
     "output_type": "stream",
     "text": [
      "Variable x is not defined\n"
     ]
    }
   ],
   "source": [
    "#except the ValueError and print own statement\n",
    "\n",
    "\n",
    "try:\n",
    "  print(x)\n",
    "except NameError:\n",
    "  print(\"Variable x is not defined\")\n",
    "except:\n",
    "  print(\"Something else went wrong\")"
   ]
  },
  {
   "cell_type": "code",
   "execution_count": 22,
   "id": "253068ab",
   "metadata": {},
   "outputs": [
    {
     "name": "stdout",
     "output_type": "stream",
     "text": [
      "Hello\n",
      "Nothing went wrong\n"
     ]
    }
   ],
   "source": [
    "try:\n",
    "  print(\"Hello\")\n",
    "except:\n",
    "  print(\"Something went wrong\")\n",
    "else:\n",
    "  print(\"Nothing went wrong\")"
   ]
  },
  {
   "cell_type": "code",
   "execution_count": 1,
   "id": "b9358795",
   "metadata": {},
   "outputs": [
    {
     "name": "stdout",
     "output_type": "stream",
     "text": [
      "Enter Id:\t1\n",
      "Enter Name:\tpooh\n",
      "Enter Dept:\tcs\n",
      "Id\t\t: 1\n",
      "Name\t: pooh\n",
      "Dept\t: cs\n"
     ]
    }
   ],
   "source": [
    "#create a class employee with name and dept as parameters and print them using object\n",
    "\n",
    "class Employee:\n",
    "    __id=0\n",
    "    __name=\"\"\n",
    "    __dept=\"\"\n",
    "    def setData(self):\n",
    "        self.__id=int(input(\"Enter Id:\\t\"))\n",
    "        self.__name = input(\"Enter Name:\\t\")\n",
    "        self.__dept = input(\"Enter Dept:\\t\")\n",
    "\n",
    "    def showData(self):\n",
    "        print(\"Id\\t\\t:\",self.__id)\n",
    "        print(\"Name\\t:\", self.__name)\n",
    "        print(\"Dept\\t:\", self.__dept)\n",
    "\n",
    "def main():\n",
    "    #Employee Object\n",
    "    emp=Employee()\n",
    "    emp.setData()\n",
    "    emp.showData()\n",
    "\n",
    "if __name__==\"__main__\":\n",
    "    main()\n",
    "\n",
    "        "
   ]
  },
  {
   "cell_type": "code",
   "execution_count": 3,
   "id": "c66eea3e",
   "metadata": {},
   "outputs": [
    {
     "name": "stdout",
     "output_type": "stream",
     "text": [
      "Rahul\n",
      "886012\n"
     ]
    }
   ],
   "source": [
    "#create an example for inheritance \n",
    "\n",
    "# parent class\n",
    "class Person( object ):    \n",
    "  \n",
    "        # __init__ is known as the constructor         \n",
    "        def __init__(self, name, idnumber):   \n",
    "                self.name = name\n",
    "                self.idnumber = idnumber\n",
    "        def display(self):\n",
    "                print(self.name)\n",
    "                print(self.idnumber)\n",
    "  \n",
    "#child class\n",
    "class Employee( Person ):           \n",
    "        def __init__(self, name, idnumber, salary, post):\n",
    "                self.salary = salary\n",
    "                self.post = post\n",
    "  \n",
    "                # invoking the __init__ of the parent class \n",
    "                Person.__init__(self, name, idnumber) \n",
    "a = Employee('Rahul', 886012, 200000, \"Intern\")    \n",
    "  \n",
    "# calling a function of the class Person using its instance\n",
    "a.display() "
   ]
  },
  {
   "cell_type": "code",
   "execution_count": 4,
   "id": "c25ab636",
   "metadata": {},
   "outputs": [
    {
     "name": "stdout",
     "output_type": "stream",
     "text": [
      "5\n",
      "9\n"
     ]
    }
   ],
   "source": [
    "#create an example for Polymorphism\n",
    "\n",
    "def add(x, y, z = 0):\n",
    "    return x + y+z\n",
    " \n",
    "# Driver code\n",
    "print(add(2, 3))\n",
    "print(add(2, 3, 4))"
   ]
  },
  {
   "cell_type": "code",
   "execution_count": 5,
   "id": "ef058a0b",
   "metadata": {},
   "outputs": [
    {
     "name": "stdout",
     "output_type": "stream",
     "text": [
      "New Delhi\n",
      "Hindi\n",
      "Washington, D.C\n",
      "English\n"
     ]
    }
   ],
   "source": [
    "#create an example for Polymorphism\n",
    "\n",
    "class India():\n",
    "    def capital(self):\n",
    "        print(\"New Delhi\")\n",
    " \n",
    "    def language(self):\n",
    "        print(\"Hindi\")\n",
    " \n",
    "class USA():\n",
    "    def capital(self):\n",
    "        print(\"Washington, D.C\")\n",
    " \n",
    "    def language(self):\n",
    "        print(\"English\")\n",
    "\n",
    "obj_ind = India()\n",
    "obj_usa = USA()\n",
    "for country in (obj_ind, obj_usa):\n",
    "    country.capital()\n",
    "    country.language()"
   ]
  },
  {
   "cell_type": "code",
   "execution_count": 11,
   "id": "1421cd73",
   "metadata": {},
   "outputs": [
    {
     "name": "stdout",
     "output_type": "stream",
     "text": [
      "<re.Match object; span=(0, 2), match='Ne'>\n"
     ]
    }
   ],
   "source": [
    "#Give an example of Negation using Regular exp\n",
    "\n",
    "import re\n",
    "\n",
    "print(re.search(r'N[^z]','Netzwerk'))\n"
   ]
  },
  {
   "cell_type": "code",
   "execution_count": 3,
   "id": "23b3862f",
   "metadata": {},
   "outputs": [
    {
     "name": "stdout",
     "output_type": "stream",
     "text": [
      "['e', 'a', 'd', 'a']\n"
     ]
    }
   ],
   "source": [
    "#Shorthand with letter and Range using Regular exp\n",
    "import re\n",
    "p = re.compile('[a-e]')\n",
    "print(p.findall(\"Aye, said Mr. ashok\"))"
   ]
  },
  {
   "cell_type": "code",
   "execution_count": 4,
   "id": "1b685b86",
   "metadata": {},
   "outputs": [
    {
     "name": "stdout",
     "output_type": "stream",
     "text": [
      "Range <re.Match object; span=(0, 1), match='x'>\n",
      "Range <re.Match object; span=(0, 1), match='1'>\n"
     ]
    }
   ],
   "source": [
    "import re\n",
    "print('Range',re.search(r'[a-zA-Z]','x'))\n",
    "print('Range',re.search(r'[1-10]','10'))"
   ]
  },
  {
   "cell_type": "code",
   "execution_count": 6,
   "id": "6d087d3a",
   "metadata": {},
   "outputs": [
    {
     "name": "stdout",
     "output_type": "stream",
     "text": [
      "Beg. of String: <re.Match object; span=(28, 35), match='Student'>\n"
     ]
    }
   ],
   "source": [
    "match = re.search(r'Student$','Student campus of the month Student')\n",
    "print('Beg. of String:',match)"
   ]
  },
  {
   "cell_type": "code",
   "execution_count": 4,
   "id": "eafe23e8",
   "metadata": {},
   "outputs": [
    {
     "name": "stdout",
     "output_type": "stream",
     "text": [
      "2021\n"
     ]
    }
   ],
   "source": [
    "#retrive a single group\n",
    "import re\n",
    "grp=re.search(r'([\\d]{2})-([\\d]{2})-([\\d]{4})','26-04-2021')\n",
    "print(grp.group(3))\n"
   ]
  },
  {
   "cell_type": "code",
   "execution_count": 1,
   "id": "77ac41bc",
   "metadata": {},
   "outputs": [
    {
     "name": "stdout",
     "output_type": "stream",
     "text": [
      "negation: None\n",
      "lookhed: <re.Match object; span=(5, 6), match='n'>\n"
     ]
    }
   ],
   "source": [
    "#lookhead\n",
    "\n",
    "import re\n",
    "print('negation:', re.search(r'n[^e]','python'))\n",
    "print('lookhed:', re.search(r'n(?!e)','python'))"
   ]
  },
  {
   "cell_type": "code",
   "execution_count": 8,
   "id": "b81b01b6",
   "metadata": {},
   "outputs": [
    {
     "name": "stdout",
     "output_type": "stream",
     "text": [
      "[1, 2, 3, 4]\n"
     ]
    }
   ],
   "source": [
    "#Create table employee insert 6 records and do update salary for all the employees by 500\n",
    "\n",
    "from pymongo import MongoClient  \n",
    "myclient = MongoClient(\"mongodb://localhost:27017/\")\n",
    "db = myclient[\"GFG\"]\n",
    "collection = db[\"Empolyee\"]\n",
    "mylist = [\n",
    "  { \"_id\": 1, \"name\": \"Vishwash\", \"Salary\": \"100\"},\n",
    "  { \"_id\": 2, \"name\": \"Vishesh\", \"Salary\": \"100\"},\n",
    "  { \"_id\": 3, \"name\": \"Shivam\", \"Salary\": \"100\"},\n",
    "  { \"_id\": 4, \"name\": \"Yash\", \"Salary\": \"100\"},\n",
    "]\n",
    "x=collection.insert_many(mylist)\n",
    "print(x.inserted_ids)\n"
   ]
  },
  {
   "cell_type": "code",
   "execution_count": 9,
   "id": "81ae2e5a",
   "metadata": {},
   "outputs": [
    {
     "name": "stdout",
     "output_type": "stream",
     "text": [
      "{'_id': 1, 'name': 'Vishwash', 'Salary': '500'}\n",
      "{'_id': 2, 'name': 'Vishesh', 'Salary': '500'}\n",
      "{'_id': 3, 'name': 'Shivam', 'Salary': '500'}\n",
      "{'_id': 4, 'name': 'Yash', 'Salary': '500'}\n"
     ]
    }
   ],
   "source": [
    "import pymongo\n",
    "\n",
    "myclient = pymongo.MongoClient(\"mongodb://localhost:27017/\")\n",
    "mydb = myclient[\"GFG\"]\n",
    "mycol = mydb[\"Empolyee\"]\n",
    "\n",
    "myquery = { \"Salary\": \"100\" }\n",
    "newvalues = { \"$set\": { \"Salary\": \"500\" } }\n",
    "\n",
    "mycol.update_many(myquery, newvalues)\n",
    "\n",
    "for x in mycol.find():\n",
    "  print(x)"
   ]
  },
  {
   "cell_type": "code",
   "execution_count": 16,
   "id": "02bff0bc",
   "metadata": {},
   "outputs": [
    {
     "name": "stdout",
     "output_type": "stream",
     "text": [
      "<Response [200]>\n",
      "\n",
      "<!DOCTYPE html>\n",
      "<html lang=\"en\">\n",
      "  <head>\n",
      "  <meta charset=\"utf-8\">\n",
      "  <meta content=\"width=300, initial-scale=1\" name=\"viewport\">\n",
      "  <meta name=\"description\" content=\"Gmail is email that&#39;s intuitive, efficient and useful. 15 GB of storage, less spam and mobile access.\">\n",
      "  <meta name=\"google-site-verification\" content=\"LrdTUW9psUAMbh4Ia074-BPEVmcpBxF6Gwf0MSgQXZs\">\n",
      "  <title>Gmail</title>\n",
      "  <style>\n",
      "  @font-face {\n",
      "  font-family: 'Open Sans';\n",
      "  font-style: normal;\n",
      "  font-weight: 300;\n",
      "  src: url(//fonts.gstatic.com/s/opensans/v15/mem5YaGs126MiZpBA-UN_r8OUuhs.ttf) format('truetype');\n",
      "}\n",
      "@font-face {\n",
      "  font-family: 'Open Sans';\n",
      "  font-style: normal;\n",
      "  font-weight: 400;\n",
      "  src: url(//fonts.gstatic.com/s/opensans/v15/mem8YaGs126MiZpBA-UFVZ0e.ttf) format('truetype');\n",
      "}\n",
      "  </style>\n",
      "  <style>\n",
      "  h1, h2 {\n",
      "  -webkit-animation-duration: 0.1s;\n",
      "  -webkit-animation-name: fontfix;\n",
      "  -webkit-animation-iteration-count: 1;\n",
      "  -webkit-animation-timing-function: linear;\n",
      "  -webkit-animation-delay: 0;\n",
      "  }\n",
      "  @-webk\n"
     ]
    }
   ],
   "source": [
    "#Create request to connect to Gmail.com and print response\n",
    "import requests as req\n",
    "response = req.get(\"http://www.gmail.com\")\n",
    "print(response)\n",
    "print(response.text[0:1000])\n",
    "    "
   ]
  },
  {
   "cell_type": "code",
   "execution_count": 17,
   "id": "ce2f76f3",
   "metadata": {},
   "outputs": [
    {
     "name": "stdout",
     "output_type": "stream",
     "text": [
      "P.No-69 \n",
      " Vishwaradhya Colony \n",
      " Quadri Chowk \n",
      " Aland Road \n",
      " Kalburagi\n"
     ]
    }
   ],
   "source": [
    "#Create a file and add 4  lines of your address and read the content in jupyterlab/python cmd\n",
    "\n",
    "file = open(\"poo.txt\",\"w+\")\n",
    "file.writelines(['P.No-69 \\n Vishwaradhya Colony \\n Quadri Chowk \\n Aland Road \\n Kalburagi'])\n",
    "file = open(\"poo.txt\",\"r\")\n",
    "print(file.read())\n",
    "file.close()\n"
   ]
  },
  {
   "cell_type": "code",
   "execution_count": 20,
   "id": "9bc5071c",
   "metadata": {},
   "outputs": [
    {
     "name": "stdout",
     "output_type": "stream",
     "text": [
      "Today's date is 2021-11-27\n",
      "Date components 2021 11 27\n"
     ]
    }
   ],
   "source": [
    "#Get date after 2 years 10 months and 4 hours from now and get date for past 3 years 6 hours from now\n",
    "\n",
    "from datetime import date\n",
    "today = date.today()\n",
    "print(\"Today's date is\", today)\n",
    "print(\"Date components\", today.year, today.month, today.day)"
   ]
  },
  {
   "cell_type": "code",
   "execution_count": 21,
   "id": "e2e96179",
   "metadata": {},
   "outputs": [
    {
     "name": "stdout",
     "output_type": "stream",
     "text": [
      "hour = 11\n",
      "minute = 34\n",
      "second = 56\n"
     ]
    }
   ],
   "source": [
    "from datetime import time\n",
    "time = time(11,34,56)\n",
    "print(\"hour =\", time.hour)\n",
    "print(\"minute =\", time.minute)\n",
    "print(\"second =\", time.second)"
   ]
  },
  {
   "cell_type": "code",
   "execution_count": 25,
   "id": "115089d3",
   "metadata": {},
   "outputs": [
    {
     "name": "stdout",
     "output_type": "stream",
     "text": [
      "Initial_date 2021-11-27 17:56:54.743057\n",
      "future_date_after_2year: 2023-11-27 17:56:54.743057\n",
      "past_date_before_3year: 2018-12-13 17:56:54.743057\n"
     ]
    }
   ],
   "source": [
    "from datetime import datetime, timedelta\n",
    "time_now=datetime.now()\n",
    "print(\"Initial_date\", str(time_now))\n",
    "future_date_after_2year=time_now + timedelta(days=730)\n",
    "past_date_before_3year=time_now - timedelta(days=1080)\n",
    "print('future_date_after_2year:', str(future_date_after_2year))\n",
    "print('past_date_before_3year:', str(past_date_before_3year))"
   ]
  },
  {
   "cell_type": "code",
   "execution_count": 23,
   "id": "332cb1ee",
   "metadata": {},
   "outputs": [
    {
     "name": "stdout",
     "output_type": "stream",
     "text": [
      "2021-10-26 00:00:00\n",
      "2024-08-26 04:00:00.342380\n"
     ]
    }
   ],
   "source": [
    "from datetime import datetime\n",
    "a = datetime(2021, 10, 26)\n",
    "print(a)\n",
    "b = datetime(2024, 8, 26, 4, 00, 00, 342380)\n",
    "print(b)"
   ]
  },
  {
   "cell_type": "code",
   "execution_count": null,
   "id": "1697abe1",
   "metadata": {},
   "outputs": [
    {
     "name": "stderr",
     "output_type": "stream",
     "text": [
      " * Running on http://localhost:5000/ (Press CTRL+C to quit)\n"
     ]
    }
   ],
   "source": [
    "##Create API using flask (module about squareroot, cube root and Simple interest calculation)\n",
    "\n",
    "import flask\n",
    "from flask import Flask, jsonify, request \n",
    "app = Flask(__name__)\n",
    "\n",
    "@app.route('/', methods = ['GET', 'POST'])\n",
    "def home():\n",
    "    if(request.method == 'GET'):\n",
    "        data = \"hello world\"\n",
    "        return jsonify({'data': data})\n",
    "@app.route('/square/<int:num>', methods = ['GET'])\n",
    "def disp(num):\n",
    "    return jsonify({'square': num**2})\n",
    "\n",
    "@app.route('/cube/<int:num>', methods = ['GET'])\n",
    "def cube(num):\n",
    "    return jsonify({'cube': num**3})\n",
    "\n",
    "@app.route('/si/<int:p><int:t><int:r>', methods = ['GET'])\n",
    "def si(p,t,r):\n",
    "    print(\"The principal is\" , p)\n",
    "    print(\"The time period is\" , t)\n",
    "    print(\"The rate of interest is\" , r)\n",
    "    simin=(p*t*r)/100\n",
    "    print(\"The simple interest is\" , simin)\n",
    "    return jsonify({'si':simin})\n",
    "# driver function\n",
    "if __name__ == '__main__':\n",
    "    from werkzeug.serving import run_simple\n",
    "run_simple('localhost', 5000, app)\n",
    "    \n"
   ]
  },
  {
   "cell_type": "code",
   "execution_count": 2,
   "id": "cb806804",
   "metadata": {},
   "outputs": [],
   "source": [
    "#Create Collection Student and update course name for all students using Updatemany\n",
    "\n",
    "from pymongo import MongoClient\n",
    "client = MongoClient('localhost',27017)\n",
    "db = client['std']\n",
    "collections = db['stdnt']\n",
    "doc = [{\"Sid\": 1, \"Sname\": \"Pooja\"},\n",
    "      {\"Sid\": 2, \"Sname\": \"Nisha\"},\n",
    "      {\"Sid\": 3, \"Sname\": \"shiva\"},\n",
    "      {\"Sid\": 4, \"Sname\": \"Ganga\"}]\n",
    "res = collections.insert_many(doc)\n"
   ]
  },
  {
   "cell_type": "code",
   "execution_count": 3,
   "id": "fb76627a",
   "metadata": {},
   "outputs": [
    {
     "name": "stdout",
     "output_type": "stream",
     "text": [
      "{'_id': ObjectId('61a23e99f7624c09a29257f8'), 'Sid': 1, 'Sname': 'Pooja', 'Course': 'CSE'}\n",
      "{'_id': ObjectId('61a23e99f7624c09a29257f9'), 'Sid': 2, 'Sname': 'Nisha', 'Course': 'CSE'}\n",
      "{'_id': ObjectId('61a23e99f7624c09a29257fa'), 'Sid': 3, 'Sname': 'shiva', 'Course': 'CSE'}\n",
      "{'_id': ObjectId('61a23e99f7624c09a29257fb'), 'Sid': 4, 'Sname': 'Ganga', 'Course': 'CSE'}\n"
     ]
    }
   ],
   "source": [
    "collections.update_many({},{\"$set\":{\"Course\":\"CSE\"}})\n",
    "for doc in collections.find():\n",
    "    print(doc)\n",
    "    "
   ]
  },
  {
   "cell_type": "code",
   "execution_count": null,
   "id": "c6e88031",
   "metadata": {},
   "outputs": [],
   "source": []
  }
 ],
 "metadata": {
  "kernelspec": {
   "display_name": "Python 3 (ipykernel)",
   "language": "python",
   "name": "python3"
  },
  "language_info": {
   "codemirror_mode": {
    "name": "ipython",
    "version": 3
   },
   "file_extension": ".py",
   "mimetype": "text/x-python",
   "name": "python",
   "nbconvert_exporter": "python",
   "pygments_lexer": "ipython3",
   "version": "3.9.7"
  }
 },
 "nbformat": 4,
 "nbformat_minor": 5
}
